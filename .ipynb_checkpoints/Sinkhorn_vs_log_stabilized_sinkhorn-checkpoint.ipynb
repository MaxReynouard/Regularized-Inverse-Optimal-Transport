{
 "cells": [
  {
   "cell_type": "code",
   "execution_count": 3,
   "metadata": {},
   "outputs": [],
   "source": [
    "import numpy as np\n",
    "import scipy.optimize\n",
    "import matplotlib.pyplot as plt\n",
    "import functools\n",
    "import riot # riot / ot homemade library"
   ]
  },
  {
   "cell_type": "markdown",
   "metadata": {},
   "source": [
    "# Sinkhorn vs log stabilized Sinkhorn"
   ]
  },
  {
   "cell_type": "markdown",
   "metadata": {},
   "source": [
    "size definitions for the problem : number of points in the origin distribution and target distribution"
   ]
  },
  {
   "cell_type": "code",
   "execution_count": 4,
   "metadata": {},
   "outputs": [],
   "source": [
    "n, m = 400, 500"
   ]
  },
  {
   "cell_type": "markdown",
   "metadata": {},
   "source": [
    "## Consistency tests"
   ]
  },
  {
   "cell_type": "markdown",
   "metadata": {},
   "source": [
    "we check that both algorithms : sinkhorn and sinkhor_stab lead to the same results for different randomly generated transport problems"
   ]
  },
  {
   "cell_type": "code",
   "execution_count": 6,
   "metadata": {},
   "outputs": [
    {
     "name": "stdout",
     "output_type": "stream",
     "text": [
      " no problem encountered for the 100 seeds\n"
     ]
    }
   ],
   "source": [
    "seed_iterator = range(100)\n",
    "for seed in  seed_iterator:\n",
    "#     to simplifie further random generation\n",
    "    rand_gen = np.random.RandomState(seed)\n",
    "    \n",
    "#     generate departure and arrival distributions\n",
    "    mu = rand_gen.rand(n,1)\n",
    "    nu = rand_gen.rand(m,1)\n",
    "    mu /= mu.sum()\n",
    "    nu /= nu.sum()\n",
    "    \n",
    "#     generate random coordinates for the departure and arrival points\n",
    "#     the transport cost will be the distance between points\n",
    "    x1 = rand_gen.rand(n,1,2)\n",
    "    x2 = rand_gen.rand(1,m,2)\n",
    "    C = ((x1-x2)**2).sum(2)**0.5\n",
    "    \n",
    "#     run both algorithms\n",
    "    Pi, u, v, regul_cost , _ = riot.sinkhorn(C, mu, nu)\n",
    "    Pi_s, f, g, regul_cost_s , _ = riot.sinkhorn_stab(C, mu, nu)\n",
    "    \n",
    "#     checking the similarity of the results\n",
    "    dPi = np.linalg.norm(Pi - Pi_s)\n",
    "    du = np.linalg.norm(np.exp(f / 1) - u)\n",
    "    dv = np.linalg.norm(np.exp(g / 1) - v)\n",
    "    dC = np.linalg.norm(regul_cost-regul_cost_s) \n",
    "    assert dPi + du + dv + dC < 1e-8, f'failed for seed {seed}'\n",
    "print(f' no problem encountered for the {len(seed_iterator)} seeds')"
   ]
  },
  {
   "cell_type": "markdown",
   "metadata": {},
   "source": [
    "## time test"
   ]
  },
  {
   "cell_type": "code",
   "execution_count": 7,
   "metadata": {
    "code_folding": [
     0,
     11
    ]
   },
   "outputs": [],
   "source": [
    "def sinkhorn_run():\n",
    "    rand_gen = np.random.RandomState()\n",
    "    mu = rand_gen.rand(n,1)\n",
    "    nu = rand_gen.rand(m,1)\n",
    "    mu /= mu.sum()\n",
    "    nu /= nu.sum()\n",
    "    x1 = rand_gen.rand(n,1,2)\n",
    "    x2 = rand_gen.rand(1,m,2)\n",
    "    C = ((x1-x2)**2).sum(2)**0.5\n",
    "    Pi, u, v, regul_cost , _ = riot.sinkhorn(C, mu, nu)\n",
    "    \n",
    "def sinkhorn_stab_run():\n",
    "    rand_gen = np.random.RandomState()\n",
    "    mu = rand_gen.rand(n,1)\n",
    "    nu = rand_gen.rand(m,1)\n",
    "    mu /= mu.sum()\n",
    "    nu /= nu.sum()\n",
    "    x1 = rand_gen.rand(n,1,2)\n",
    "    x2 = rand_gen.rand(1,m,2)\n",
    "    C = ((x1-x2)**2).sum(2)**0.5\n",
    "    Pi, f, g, regul_cost , _ = riot.sinkhorn_stab(C, mu, nu)"
   ]
  },
  {
   "cell_type": "code",
   "execution_count": 8,
   "metadata": {},
   "outputs": [
    {
     "name": "stdout",
     "output_type": "stream",
     "text": [
      "for the normal sinkhorn, the time taken for a run is :\n",
      "28.4 ns ± 5.21 ns per loop (mean ± std. dev. of 7 runs, 10000000 loops each)\n",
      "\n",
      "for the stabilized sinkhorn, the time taken for a run is :\n",
      "24.5 ns ± 1.89 ns per loop (mean ± std. dev. of 7 runs, 10000000 loops each)\n",
      "\n",
      "we see an amelioration of 16% in computation time\n"
     ]
    }
   ],
   "source": [
    "print('for the normal sinkhorn, the time taken for a run is :')\n",
    "res_sink = %timeit -o sinkhorn_run\n",
    "print('\\nfor the stabilized sinkhorn, the time taken for a run is :')\n",
    "res_stab = %timeit -o sinkhorn_stab_run\n",
    "print()\n",
    "\n",
    "r = res_sink.average / res_stab.average\n",
    "if r > 1 :\n",
    "    print(f'we see an amelioration of {int(100 * r - 100)}% in computation time')\n",
    "else :\n",
    "    print(f'we see a loss of {int(100 * r-100)}% in computation time')"
   ]
  },
  {
   "cell_type": "code",
   "execution_count": null,
   "metadata": {},
   "outputs": [],
   "source": []
  },
  {
   "cell_type": "code",
   "execution_count": null,
   "metadata": {},
   "outputs": [],
   "source": []
  }
 ],
 "metadata": {
  "kernelspec": {
   "display_name": "Python 3",
   "language": "python",
   "name": "python3"
  },
  "language_info": {
   "codemirror_mode": {
    "name": "ipython",
    "version": 3
   },
   "file_extension": ".py",
   "mimetype": "text/x-python",
   "name": "python",
   "nbconvert_exporter": "python",
   "pygments_lexer": "ipython3",
   "version": "3.7.9"
  }
 },
 "nbformat": 4,
 "nbformat_minor": 4
}
