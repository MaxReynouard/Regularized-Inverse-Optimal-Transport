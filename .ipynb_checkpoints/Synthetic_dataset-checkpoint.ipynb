{
 "cells": [
  {
   "cell_type": "code",
   "execution_count": 1,
   "metadata": {},
   "outputs": [],
   "source": [
    "import numpy as np\n",
    "import scipy.optimize\n",
    "import matplotlib.pyplot as plt\n",
    "import functools\n",
    "import riot # riot / ot homemade library"
   ]
  },
  {
   "cell_type": "markdown",
   "metadata": {},
   "source": [
    "# RIOT study"
   ]
  },
  {
   "cell_type": "markdown",
   "metadata": {},
   "source": [
    "## functions"
   ]
  },
  {
   "cell_type": "markdown",
   "metadata": {},
   "source": [
    "we define some functions to generate synthetic data and to easily run RIOT on this data"
   ]
  },
  {
   "cell_type": "code",
   "execution_count": 2,
   "metadata": {
    "code_folding": [
     1
    ]
   },
   "outputs": [],
   "source": [
    "# function to generate distance matrix for n points located in x-dim space\n",
    "def distance_matrix_generation (n,dim = 2, seed = 42):\n",
    "    '''\n",
    "    generates euclidian distance matrix \n",
    "    for n points generated in a dim dimension space \n",
    "    '''\n",
    "    np.random.seed(seed)\n",
    "    x =  np.random.randn(n,dim)\n",
    "    return ((x[:,None,:] - x[None,:,:])**2).sum(2)**0.5"
   ]
  },
  {
   "cell_type": "code",
   "execution_count": 3,
   "metadata": {
    "code_folding": [
     1
    ]
   },
   "outputs": [],
   "source": [
    "# function to generate synthetic data\n",
    "def datagen(seed, n, m, u_feat, v_feat, a_rank, noise = 0, gamma = 0.1, const = 1, deg = 1):\n",
    "    \n",
    "#     to ease random generations\n",
    "    rand_gen = np.random.RandomState(seed)\n",
    "\n",
    "#     location of our data in its feature space\n",
    "    U = rand_gen.rand(n,u_feat)\n",
    "    V = rand_gen.rand(m,v_feat)\n",
    "    \n",
    "#     For our data to have a structure, we generate a low rank matrix A_real from  two matrix G and D,\n",
    "#     and we get the cost from a user u to an item v : C, through a polynomal kernel\n",
    "    G_real = rand_gen.rand(u_feat, a_rank)\n",
    "    D_real = rand_gen.rand(v_feat, a_rank)\n",
    "    A_real = G_real @ D_real.T\n",
    "    C_real = riot.poly_kernel(U, V, gamma, const, deg, A_real)\n",
    "    \n",
    "#     we randomly generate origin and arrival distributions, and normalize them (to be distributions)\n",
    "    mu_real, nu_real = rand_gen.rand(n,1), rand_gen.rand(m,1)\n",
    "    mu_real /= mu_real.sum()\n",
    "    nu_real /= nu_real.sum()\n",
    "    \n",
    "#     We get the real transport plan for this problem\n",
    "    Pi_real= riot.sinkhorn_stab(C_real, mu_real, nu_real)[0]\n",
    "#     and user-user and item-item cost matrix\n",
    "    C_u = distance_matrix_generation(n)\n",
    "    C_v = distance_matrix_generation(m)\n",
    "    \n",
    "#     Then we degrade the real transport plan with noise\n",
    "    Pi_hat = Pi_real + noise * np.abs(rand_gen.randn(n,m))\n",
    "    Pi_hat /= Pi_hat.sum()\n",
    "    return Pi_real, Pi_hat, U, V, C_u, C_v"
   ]
  },
  {
   "cell_type": "code",
   "execution_count": 4,
   "metadata": {
    "code_folding": [
     1
    ]
   },
   "outputs": [],
   "source": [
    "# function to run riot on the generated synthetic data\n",
    "def riot_run(Pi_hat, Pi_real, C_u, C_v, A_init,\n",
    "             lambda0 = 1, lambda_u = 1, lambda_v = 1, \n",
    "             delta = 0.02, s = 100, outer_iter = 100, inner_iter = 30, \n",
    "             gamma = 0.05, const = 1, deg = 2) :\n",
    "    '''\n",
    "    Reconstructs Pi_real from Pi_hat, C_u, C_v, \n",
    "    Pi_real is given only to track progress\n",
    "    we also give an initialised matrix A,\n",
    "    regularization parameters lambdas, delta,\n",
    "    learning rate s, \n",
    "    number of inner/outer iterations,\n",
    "    and polynomial kernel constants\n",
    "    '''\n",
    "    \n",
    "    C_of_A = functools.partial(riot.poly_kernel, U, V, gamma**2, const/gamma, deg)\n",
    "    dC_of_A = functools.partial(riot.poly_kernel, U, V, deg * gamma**2, const/gamma, deg-1)\n",
    "    def Delta_of_A (A, gradC) :\n",
    "        return U.T @ (gradC * dC_of_A(A)) @ V\n",
    "    return riot.RIOT(Pi_hat, C_u, C_v, C_of_A, Delta_of_A, \n",
    "                     lambda0, lambda_u,lambda_v, delta , s, \n",
    "                     outer_iter, inner_iter,None,A_init, Pi_real)"
   ]
  },
  {
   "cell_type": "markdown",
   "metadata": {},
   "source": [
    "## first run"
   ]
  },
  {
   "cell_type": "markdown",
   "metadata": {},
   "source": [
    "To make everything work "
   ]
  },
  {
   "cell_type": "markdown",
   "metadata": {},
   "source": [
    "### synthetic data generation"
   ]
  },
  {
   "cell_type": "code",
   "execution_count": 5,
   "metadata": {
    "code_folding": []
   },
   "outputs": [],
   "source": [
    "# generate the problem\n",
    "seed = 42\n",
    "rand_gen = np.random.RandomState(seed)\n",
    "\n",
    "# number of data points for users and items\n",
    "n, m = 10, 12\n",
    "# number of features (users, items)\n",
    "u_feat, v_feat = 9, 8\n",
    "# rank for the underlying hidden data structure\n",
    "a_rank = 3\n",
    "\n",
    "noise = 1e-4\n",
    "\n",
    "Pi_real, Pi_hat, U, V, C_u, C_v = datagen(seed, n, m, u_feat, v_feat, a_rank, noise)"
   ]
  },
  {
   "cell_type": "markdown",
   "metadata": {},
   "source": [
    "### RIOT run"
   ]
  },
  {
   "cell_type": "code",
   "execution_count": 6,
   "metadata": {
    "code_folding": []
   },
   "outputs": [
    {
     "name": "stderr",
     "output_type": "stream",
     "text": [
      "  1% |                                                                        |\r"
     ]
    },
    {
     "name": "stdout",
     "output_type": "stream",
     "text": [
      "Performing RIOT :\n"
     ]
    },
    {
     "name": "stderr",
     "output_type": "stream",
     "text": [
      "100% |########################################################################|\n"
     ]
    }
   ],
   "source": [
    "# func test\n",
    "A_init = rand_gen.rand(u_feat,v_feat)\n",
    "_,_,_,KLs, PiDists = riot_run(Pi_hat, Pi_real, C_u, C_v, A_init,\n",
    "                         lambda0 = 1, lambda_u = 1, lambda_v = 1, \n",
    "                         delta = 0.02, s = 100, outer_iter = 1000, inner_iter = 30, \n",
    "                         gamma = 0.05, const = 1, deg = 2)"
   ]
  },
  {
   "cell_type": "code",
   "execution_count": 7,
   "metadata": {
    "code_folding": [
     0
    ]
   },
   "outputs": [
    {
     "data": {
      "image/png": "[encoded data removed]",
      "text/plain": [
       "<Figure size 432x288 with 2 Axes>"
      ]
     },
     "metadata": {
      "needs_background": "light"
     },
     "output_type": "display_data"
    }
   ],
   "source": [
    "# ploting the convergence\n",
    "i = list(range(len(KLs)))\n",
    "fig, ax1 = plt.subplots()\n",
    "ax1.set_xlabel('outer iterations')\n",
    "ax1.set_ylabel('KLs', color='b')\n",
    "ax1.plot(i, KLs, 'b')\n",
    "ax1.tick_params(axis='y', labelcolor='b')\n",
    "\n",
    "ax2 = ax1.twinx()  \n",
    "\n",
    "color = 'r'\n",
    "ax2.set_ylabel('Pi Distances', color=color)  # we already handled the x-label with ax1\n",
    "ax2.plot(i, PiDists, color=color)\n",
    "ax2.tick_params(axis='y', labelcolor=color)"
   ]
  },
  {
   "cell_type": "markdown",
   "metadata": {},
   "source": [
    "## noise sensitivity"
   ]
  },
  {
   "cell_type": "markdown",
   "metadata": {},
   "source": [
    "here we see that for higher values of noise, our KL divergence loose in accuracy to estimate the convergence. Up to the point where its calculation fails for numerical reason.\n",
    "\n",
    "However, The algorithm still converges at that point !"
   ]
  },
  {
   "cell_type": "code",
   "execution_count": 8,
   "metadata": {},
   "outputs": [
    {
     "name": "stderr",
     "output_type": "stream",
     "text": [
      "  4% |##                                                                      |\r"
     ]
    },
    {
     "name": "stdout",
     "output_type": "stream",
     "text": [
      "Performing RIOT :\n"
     ]
    },
    {
     "name": "stderr",
     "output_type": "stream",
     "text": [
      "100% |########################################################################|\n"
     ]
    },
    {
     "name": "stdout",
     "output_type": "stream",
     "text": [
      "for noise = 1e-06 we have the results\n"
     ]
    },
    {
     "data": {
      "image/png": "[encoded data removed]",
      "text/plain": [
       "<Figure size 432x288 with 2 Axes>"
      ]
     },
     "metadata": {
      "needs_background": "light"
     },
     "output_type": "display_data"
    },
    {
     "name": "stderr",
     "output_type": "stream",
     "text": [
      "  4% |##                                                                      |\r"
     ]
    },
    {
     "name": "stdout",
     "output_type": "stream",
     "text": [
      "Performing RIOT :\n"
     ]
    },
    {
     "name": "stderr",
     "output_type": "stream",
     "text": [
      "100% |########################################################################|\n"
     ]
    },
    {
     "name": "stdout",
     "output_type": "stream",
     "text": [
      "for noise = 1e-05 we have the results\n"
     ]
    },
    {
     "data": {
      "image/png": "[encoded data removed]",
      "text/plain": [
       "<Figure size 432x288 with 2 Axes>"
      ]
     },
     "metadata": {
      "needs_background": "light"
     },
     "output_type": "display_data"
    },
    {
     "name": "stderr",
     "output_type": "stream",
     "text": [
      "D:\\MaxTraining\\github\\Robust-Inverse-Optimal-Transport\\riot.py:8: RuntimeWarning: invalid value encountered in log\n",
      "  return (a * np.log(a / b)).sum()\n",
      "  1% |                                                                        |\r"
     ]
    },
    {
     "name": "stdout",
     "output_type": "stream",
     "text": [
      "Performing RIOT :\n"
     ]
    },
    {
     "name": "stderr",
     "output_type": "stream",
     "text": [
      "100% |########################################################################|\n"
     ]
    },
    {
     "name": "stdout",
     "output_type": "stream",
     "text": [
      "for noise = 0.0001 we have the results\n"
     ]
    },
    {
     "data": {
      "image/png": "[encoded data removed]",
      "text/plain": [
       "<Figure size 432x288 with 2 Axes>"
      ]
     },
     "metadata": {
      "needs_background": "light"
     },
     "output_type": "display_data"
    }
   ],
   "source": [
    "# Run riot for different noises, look at convergence\n",
    "seed = 42\n",
    "rand_gen = np.random.RandomState(seed)\n",
    "\n",
    "n, m = 10, 12\n",
    "u_feat, v_feat = 9, 8\n",
    "a_rank = 3\n",
    "\n",
    "\n",
    "# regularisations (inverse of regularisation parameters)\n",
    "lambda0, lambda_u, lambda_v = 1, 1, 1\n",
    "\n",
    "Pi_real, _, U, V, C_u, C_v = datagen(seed, n, m, u_feat, v_feat, a_rank)\n",
    "A_init = rand_gen.rand(u_feat,v_feat)\n",
    "\n",
    "perturbation = rand_gen.randn(n,m)\n",
    "\n",
    "Pi_real_mem = Pi_real.copy()\n",
    "C_u_mem = C_u.copy()\n",
    "C_v_mem = C_v.copy()\n",
    "A_init_mem = A_init.copy()\n",
    "perturbation_mem = perturbation.copy()\n",
    "\n",
    "for noise in [1e-6, 1e-5, 1e-4] : \n",
    "    Pi_hat = Pi_real + noise * perturbation\n",
    "    Pi_hat /= Pi_hat.sum()\n",
    "    _,_,_,KLs, PiDists = riot_run(Pi_hat, Pi_real, C_u, C_v, A_init,\n",
    "                             lambda0 = lambda0, lambda_u = lambda_u, lambda_v = lambda_v, \n",
    "                             delta = 0.02, s = 100, outer_iter = 300, inner_iter = 30, \n",
    "                             gamma = 0.05, const = 1, deg = 2)\n",
    "\n",
    "#     display resulsts\n",
    "    print(f'for noise = {noise} we have the results')\n",
    "    i = list(range(len(KLs)))\n",
    "    fig, ax1 = plt.subplots()\n",
    "    ax1.set_xlabel('outer iterations')\n",
    "    ax1.set_ylabel('KLs', color='b')\n",
    "    ax1.plot(i, KLs, 'b')\n",
    "    ax1.tick_params(axis='y', labelcolor='b')\n",
    "\n",
    "    ax2 = ax1.twinx()  \n",
    "\n",
    "    color = 'r'\n",
    "    ax2.set_ylabel('Pi Distances', color=color)  # we already handled the x-label with ax1\n",
    "    ax2.plot(i, PiDists, color=color)\n",
    "    ax2.tick_params(axis='y', labelcolor=color)\n",
    "    plt.title(f\"convergence for noise = {noise}\")\n",
    "    plt.show()"
   ]
  },
  {
   "cell_type": "code",
   "execution_count": null,
   "metadata": {},
   "outputs": [],
   "source": []
  }
 ],
 "metadata": {
  "kernelspec": {
   "display_name": "Python 3",
   "language": "python",
   "name": "python3"
  },
  "language_info": {
   "codemirror_mode": {
    "name": "ipython",
    "version": 3
   },
   "file_extension": ".py",
   "mimetype": "text/x-python",
   "name": "python",
   "nbconvert_exporter": "python",
   "pygments_lexer": "ipython3",
   "version": "3.7.9"
  }
 },
 "nbformat": 4,
 "nbformat_minor": 4
}
